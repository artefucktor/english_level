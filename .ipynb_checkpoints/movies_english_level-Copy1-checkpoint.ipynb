{
 "cells": [
  {
   "cell_type": "code",
   "execution_count": 224,
   "id": "a16cd5ab",
   "metadata": {},
   "outputs": [],
   "source": [
    "import pandas as pd\n",
    "import os\n",
    "import re\n",
    "import warnings\n",
    "\n",
    "import matplotlib.pyplot as plt\n",
    "\n",
    "try:\n",
    "    from pypdf import PdfReader\n",
    "except:\n",
    "    !pip install pypdf\n",
    "    from pypdf import PdfReader\n",
    "\n",
    "try:\n",
    "    import spacy\n",
    "except:\n",
    "    !pip install spacy\n",
    "    !python -m spacy download en\n",
    "    import spacy\n",
    "\n",
    "try:\n",
    "    import chardet\n",
    "except:\n",
    "    !pip install chardet\n",
    "    import chardet\n",
    "    \n",
    "    \n",
    "from sklearn.feature_extraction.text import TfidfVectorizer, CountVectorizer\n",
    "from sklearn.model_selection import train_test_split, RandomizedSearchCV\n",
    "from sklearn.preprocessing import OneHotEncoder, StandardScaler, OrdinalEncoder\n",
    "from sklearn.pipeline import Pipeline, FeatureUnion\n",
    "from sklearn.compose import ColumnTransformer\n",
    "from sklearn.metrics import classification_report,mean_squared_error\n",
    "\n",
    "import xgboost\n",
    "\n"
   ]
  },
  {
   "cell_type": "code",
   "execution_count": 225,
   "id": "8da1824c",
   "metadata": {},
   "outputs": [],
   "source": [
    "warnings.filterwarnings(\"ignore\")\n",
    "\n",
    "nlp = spacy.load(\"en_core_web_sm\")\n",
    "\n",
    "SCORES_PATH    = 'English_level/English_scores'\n",
    "SUBTITLES_PATH = 'English_level/English_scores/Subtitles_all'\n",
    "OXFORD_PATH    = 'English_level/Oxford_CEFR_level'\n",
    "\n",
    "ENGLISH_LEVELS = ['A1', 'A2', 'B1', 'B2', 'C1']\n",
    "\n",
    "RANDOM_STATE = 7"
   ]
  },
  {
   "cell_type": "markdown",
   "id": "26f98292",
   "metadata": {},
   "source": [
    "# LOAD DATA"
   ]
  },
  {
   "cell_type": "markdown",
   "id": "99487174",
   "metadata": {},
   "source": [
    "## The Oxford core by CEFR level"
   ]
  },
  {
   "cell_type": "code",
   "execution_count": 226,
   "id": "f00b3d3d",
   "metadata": {
    "scrolled": false
   },
   "outputs": [
    {
     "name": "stdout",
     "output_type": "stream",
     "text": [
      "American_Oxford_3000_by_CEFR_level.pdf\n",
      "The_Oxford_3000_by_CEFR_level.pdf\n",
      "The_Oxford_5000_by_CEFR_level.pdf\n",
      "American_Oxford_5000_by_CEFR_level.pdf\n"
     ]
    },
    {
     "data": {
      "text/html": [
       "<style type=\"text/css\">\n",
       "</style>\n",
       "<table id=\"T_a907d\">\n",
       "  <thead>\n",
       "    <tr>\n",
       "      <th class=\"blank level0\" >&nbsp;</th>\n",
       "      <th id=\"T_a907d_level0_col0\" class=\"col_heading level0 col0\" >word</th>\n",
       "      <th id=\"T_a907d_level0_col1\" class=\"col_heading level0 col1\" >source</th>\n",
       "    </tr>\n",
       "    <tr>\n",
       "      <th class=\"index_name level0\" >level</th>\n",
       "      <th class=\"blank col0\" >&nbsp;</th>\n",
       "      <th class=\"blank col1\" >&nbsp;</th>\n",
       "    </tr>\n",
       "  </thead>\n",
       "  <tbody>\n",
       "    <tr>\n",
       "      <th id=\"T_a907d_level0_row0\" class=\"row_heading level0 row0\" >A1</th>\n",
       "      <td id=\"T_a907d_row0_col0\" class=\"data row0 col0\" >735 слов</td>\n",
       "      <td id=\"T_a907d_row0_col1\" class=\"data row0 col1\" >['American_Oxford_5000_by_CEFR_level.pdf']</td>\n",
       "    </tr>\n",
       "    <tr>\n",
       "      <th id=\"T_a907d_level0_row1\" class=\"row_heading level0 row1\" >A2</th>\n",
       "      <td id=\"T_a907d_row1_col0\" class=\"data row1 col0\" >747 слов</td>\n",
       "      <td id=\"T_a907d_row1_col1\" class=\"data row1 col1\" >['American_Oxford_5000_by_CEFR_level.pdf']</td>\n",
       "    </tr>\n",
       "    <tr>\n",
       "      <th id=\"T_a907d_level0_row2\" class=\"row_heading level0 row2\" >B1</th>\n",
       "      <td id=\"T_a907d_row2_col0\" class=\"data row2 col0\" >758 слов</td>\n",
       "      <td id=\"T_a907d_row2_col1\" class=\"data row2 col1\" >['American_Oxford_5000_by_CEFR_level.pdf']</td>\n",
       "    </tr>\n",
       "    <tr>\n",
       "      <th id=\"T_a907d_level0_row3\" class=\"row_heading level0 row3\" >B2</th>\n",
       "      <td id=\"T_a907d_row3_col0\" class=\"data row3 col0\" >1,446 слов</td>\n",
       "      <td id=\"T_a907d_row3_col1\" class=\"data row3 col1\" >['American_Oxford_5000_by_CEFR_level.pdf']</td>\n",
       "    </tr>\n",
       "    <tr>\n",
       "      <th id=\"T_a907d_level0_row4\" class=\"row_heading level0 row4\" >C1</th>\n",
       "      <td id=\"T_a907d_row4_col0\" class=\"data row4 col0\" >1,198 слов</td>\n",
       "      <td id=\"T_a907d_row4_col1\" class=\"data row4 col1\" >['American_Oxford_5000_by_CEFR_level.pdf']</td>\n",
       "    </tr>\n",
       "  </tbody>\n",
       "</table>\n"
      ],
      "text/plain": [
       "<pandas.io.formats.style.Styler at 0x160dd1a30>"
      ]
     },
     "execution_count": 226,
     "metadata": {},
     "output_type": "execute_result"
    }
   ],
   "source": [
    "def process_pdf(content):\n",
    "    \n",
    "    current_level = ''\n",
    "    words_by_level = {key:[] for key in ENGLISH_LEVELS}\n",
    "    \n",
    "    for line in content:\n",
    "        line = line.strip()\n",
    "\n",
    "        if 'Oxford' in line or 'English' in line:\n",
    "            pass\n",
    "        \n",
    "        elif line in ENGLISH_LEVELS:\n",
    "            level = line\n",
    "            \n",
    "        elif ' ' in line:\n",
    "            line = re.sub(r'\\d|,', '', line.lower())   # remove digits and commas and transform to lowercase\n",
    "            words_by_level[level] += [line.split()[0]] #get the first occurency in line as word\n",
    "            \n",
    "        else:\n",
    "            pass\n",
    "    \n",
    "    return words_by_level\n",
    "\n",
    "\n",
    "content = []\n",
    "oxford_words = pd.DataFrame(columns=['word', 'level', 'source', 'type'])\n",
    "\n",
    "# load all pdfs\n",
    "for dirname, _, filenames in os.walk(OXFORD_PATH):\n",
    "    for filename in filenames:\n",
    "        print(filename)\n",
    "        reader = PdfReader(f'{OXFORD_PATH}/{filename}')\n",
    "        for page in reader.pages:\n",
    "            content += page.extract_text().splitlines()\n",
    "        processed = process_pdf(content)\n",
    "        for level in processed:\n",
    "            oxford_words = pd.concat([oxford_words,\n",
    "                                      pd.DataFrame({'word'   : processed[level],\n",
    "                                                    'level'  : level,\n",
    "                                                    'source' : filename,\n",
    "                                                    'type'   : 'us' if 'American' in filename else 'uk'\n",
    "                                                   })\n",
    "                                     ])\n",
    "\n",
    "# sort words and keep unique with highest levels\n",
    "oxford_words = oxford_words.sort_values(by=['word', 'level'])\n",
    "oxford_words = oxford_words.drop_duplicates(subset=['word'], keep='last')\n",
    "\n",
    "oxford_words.groupby('level') \\\n",
    "            .agg({'word':'count', 'source': 'unique'}) \\\n",
    "            .style.format({'word':'{:,.0f} слов'})\n"
   ]
  },
  {
   "cell_type": "markdown",
   "id": "171d6b2f",
   "metadata": {},
   "source": [
    "## Subtitles"
   ]
  },
  {
   "cell_type": "code",
   "execution_count": 227,
   "id": "9555659b",
   "metadata": {
    "scrolled": false
   },
   "outputs": [
    {
     "name": "stdout",
     "output_type": "stream",
     "text": [
      "посторонний файл .DS_Store\n",
      "посторонний файл .DS_Store\n"
     ]
    },
    {
     "data": {
      "text/html": [
       "<div>\n",
       "<style scoped>\n",
       "    .dataframe tbody tr th:only-of-type {\n",
       "        vertical-align: middle;\n",
       "    }\n",
       "\n",
       "    .dataframe tbody tr th {\n",
       "        vertical-align: top;\n",
       "    }\n",
       "\n",
       "    .dataframe thead th {\n",
       "        text-align: right;\n",
       "    }\n",
       "</style>\n",
       "<table border=\"1\" class=\"dataframe\">\n",
       "  <thead>\n",
       "    <tr style=\"text-align: right;\">\n",
       "      <th></th>\n",
       "      <th>movie</th>\n",
       "      <th>filename</th>\n",
       "      <th>content</th>\n",
       "      <th>level</th>\n",
       "      <th>lemmas</th>\n",
       "    </tr>\n",
       "  </thead>\n",
       "  <tbody>\n",
       "    <tr>\n",
       "      <th>0</th>\n",
       "      <td>NaN</td>\n",
       "      <td>Crown, The S01E01 - Wolferton Splash.en</td>\n",
       "      <td>seeking his british nationalization his royal ...</td>\n",
       "      <td>B2</td>\n",
       "      <td>NaN</td>\n",
       "    </tr>\n",
       "    <tr>\n",
       "      <th>1</th>\n",
       "      <td>NaN</td>\n",
       "      <td>Suits.Episode 1- Denial</td>\n",
       "      <td>youre the most amazing woman have ever met are...</td>\n",
       "      <td>B2</td>\n",
       "      <td>NaN</td>\n",
       "    </tr>\n",
       "    <tr>\n",
       "      <th>2</th>\n",
       "      <td>NaN</td>\n",
       "      <td>Crazy4TV.com - Suits.S06E06.720p.BluRay.x265.H...</td>\n",
       "      <td>ive been after sutter for three years now this...</td>\n",
       "      <td>B2</td>\n",
       "      <td>NaN</td>\n",
       "    </tr>\n",
       "    <tr>\n",
       "      <th>3</th>\n",
       "      <td>NaN</td>\n",
       "      <td>Suits.S02E08.HDTV.x264-EVOLVE</td>\n",
       "      <td>youre late nope seconds early good learning te...</td>\n",
       "      <td>B2</td>\n",
       "      <td>NaN</td>\n",
       "    </tr>\n",
       "    <tr>\n",
       "      <th>4</th>\n",
       "      <td>NaN</td>\n",
       "      <td>Virgin.River.S01E07.INTERNAL.720p.WEB.x264-STRiFE</td>\n",
       "      <td>are you sure cant convince you stay you were r...</td>\n",
       "      <td>B2</td>\n",
       "      <td>NaN</td>\n",
       "    </tr>\n",
       "  </tbody>\n",
       "</table>\n",
       "</div>"
      ],
      "text/plain": [
       "   movie                                           filename  \\\n",
       "0    NaN            Crown, The S01E01 - Wolferton Splash.en   \n",
       "1    NaN                            Suits.Episode 1- Denial   \n",
       "2    NaN  Crazy4TV.com - Suits.S06E06.720p.BluRay.x265.H...   \n",
       "3    NaN                      Suits.S02E08.HDTV.x264-EVOLVE   \n",
       "4    NaN  Virgin.River.S01E07.INTERNAL.720p.WEB.x264-STRiFE   \n",
       "\n",
       "                                             content level  lemmas  \n",
       "0  seeking his british nationalization his royal ...    B2     NaN  \n",
       "1  youre the most amazing woman have ever met are...    B2     NaN  \n",
       "2  ive been after sutter for three years now this...    B2     NaN  \n",
       "3  youre late nope seconds early good learning te...    B2     NaN  \n",
       "4  are you sure cant convince you stay you were r...    B2     NaN  "
      ]
     },
     "execution_count": 227,
     "metadata": {},
     "output_type": "execute_result"
    }
   ],
   "source": [
    "# parse and clean subtitles\n",
    "def clean_text(content):\n",
    "    text = []\n",
    "    for line in content.splitlines():                        \n",
    "        if re.search(r'[A-Za-z]',line):                      # get non empty lines with words\n",
    "            line = line.lower()                              # transform to lowercase\n",
    "            line = re.sub(r'\\<[^<]+?\\>', ' ', line)          # remove html tags\n",
    "            line = re.sub(r'(\\(.+\\))|(\\[.+\\])', ' ', line)   # remove actions in parenthesis\n",
    "            line = re.sub(r'([\\w#\\s]+\\:)', ' ', line)        # remove speaker in dialogs\n",
    "            line = re.sub(r'\\'', '', line)                   # glue apostroph\n",
    "            line = re.sub(r'[^a-z]', ' ', line)              # remove non-word symbols\n",
    "            line = re.sub(r'\\b\\w{1,2}\\b', '', line)          # remove single and two symbol sequences\n",
    "            line = re.sub(r'\\s\\s+', ' ', line).strip()       # remove extra spaces longer than single\n",
    "            if len(line)>0:\n",
    "                text.append(line)\n",
    "    return ' '.join(text)\n",
    "\n",
    "\n",
    "# process file\n",
    "def process_srt(dirname, filename):\n",
    "    global count\n",
    "    if not filename.endswith('.srt'):                        # skip non srt files\n",
    "        print('посторонний файл', filename)\n",
    "        return False\n",
    "    fullpath = os.path.join(dirname,filename)\n",
    "    try:\n",
    "        file = open(fullpath, 'rb')\n",
    "        content = file.read()\n",
    "        file.close()\n",
    "        encoding = chardet.detect(content)['encoding']      # detect encoding and convert\n",
    "#         print(encoding)\n",
    "        content = content.decode(encoding)\n",
    "    except:\n",
    "        print('не прочиталось', filename)\n",
    "        return False\n",
    "    return clean_text(content)                               # clean text and return\n",
    "\n",
    "movies = pd.DataFrame(columns=['movie', 'filename', 'content', 'level', 'lemmas'])\n",
    "\n",
    "# recursive walk through dirs\n",
    "for dirname, _, filenames in os.walk(SUBTITLES_PATH):\n",
    "    for filename in filenames:\n",
    "        level = dirname.split('/')[-1]                       # get level name from dir\n",
    "        subs = process_srt(dirname, filename)                # process file\n",
    "        if subs:                                             # add movie to dataframe\n",
    "            movies.loc[len(movies)] = \\\n",
    "                {'filename': filename.replace('.srt', ''),\n",
    "                 'content' : subs,\n",
    "                 'level'   : level\n",
    "                }\n",
    "\n",
    "movies.head()"
   ]
  },
  {
   "cell_type": "code",
   "execution_count": 228,
   "id": "a5e329ef",
   "metadata": {},
   "outputs": [
    {
     "name": "stdout",
     "output_type": "stream",
     "text": [
      "<class 'pandas.core.frame.DataFrame'>\n",
      "Int64Index: 241 entries, 0 to 240\n",
      "Data columns (total 2 columns):\n",
      " #   Column  Non-Null Count  Dtype \n",
      "---  ------  --------------  ----- \n",
      " 0   Movie   241 non-null    object\n",
      " 1   Level   241 non-null    object\n",
      "dtypes: object(2)\n",
      "memory usage: 5.6+ KB\n",
      "\n",
      "Дубликаты полные 2\n",
      "Дубликаты в названиях фильмов 4\n"
     ]
    },
    {
     "data": {
      "text/html": [
       "<div>\n",
       "<style scoped>\n",
       "    .dataframe tbody tr th:only-of-type {\n",
       "        vertical-align: middle;\n",
       "    }\n",
       "\n",
       "    .dataframe tbody tr th {\n",
       "        vertical-align: top;\n",
       "    }\n",
       "\n",
       "    .dataframe thead th {\n",
       "        text-align: right;\n",
       "    }\n",
       "</style>\n",
       "<table border=\"1\" class=\"dataframe\">\n",
       "  <thead>\n",
       "    <tr style=\"text-align: right;\">\n",
       "      <th></th>\n",
       "      <th>movie</th>\n",
       "      <th>level</th>\n",
       "    </tr>\n",
       "    <tr>\n",
       "      <th>id</th>\n",
       "      <th></th>\n",
       "      <th></th>\n",
       "    </tr>\n",
       "  </thead>\n",
       "  <tbody>\n",
       "    <tr>\n",
       "      <th>0</th>\n",
       "      <td>10_Cloverfield_lane(2016)</td>\n",
       "      <td>B1</td>\n",
       "    </tr>\n",
       "    <tr>\n",
       "      <th>1</th>\n",
       "      <td>10_things_I_hate_about_you(1999)</td>\n",
       "      <td>B1</td>\n",
       "    </tr>\n",
       "    <tr>\n",
       "      <th>2</th>\n",
       "      <td>A_knights_tale(2001)</td>\n",
       "      <td>B2</td>\n",
       "    </tr>\n",
       "    <tr>\n",
       "      <th>3</th>\n",
       "      <td>A_star_is_born(2018)</td>\n",
       "      <td>B2</td>\n",
       "    </tr>\n",
       "    <tr>\n",
       "      <th>4</th>\n",
       "      <td>Aladdin(1992)</td>\n",
       "      <td>A2/A2+</td>\n",
       "    </tr>\n",
       "    <tr>\n",
       "      <th>...</th>\n",
       "      <td>...</td>\n",
       "      <td>...</td>\n",
       "    </tr>\n",
       "    <tr>\n",
       "      <th>236</th>\n",
       "      <td>Matilda(2022)</td>\n",
       "      <td>C1</td>\n",
       "    </tr>\n",
       "    <tr>\n",
       "      <th>237</th>\n",
       "      <td>Bullet train</td>\n",
       "      <td>B1</td>\n",
       "    </tr>\n",
       "    <tr>\n",
       "      <th>238</th>\n",
       "      <td>Thor: love and thunder</td>\n",
       "      <td>B2</td>\n",
       "    </tr>\n",
       "    <tr>\n",
       "      <th>239</th>\n",
       "      <td>Lightyear</td>\n",
       "      <td>B2</td>\n",
       "    </tr>\n",
       "    <tr>\n",
       "      <th>240</th>\n",
       "      <td>The Grinch</td>\n",
       "      <td>B1</td>\n",
       "    </tr>\n",
       "  </tbody>\n",
       "</table>\n",
       "<p>239 rows × 2 columns</p>\n",
       "</div>"
      ],
      "text/plain": [
       "                                movie   level\n",
       "id                                           \n",
       "0           10_Cloverfield_lane(2016)      B1\n",
       "1    10_things_I_hate_about_you(1999)      B1\n",
       "2                A_knights_tale(2001)      B2\n",
       "3                A_star_is_born(2018)      B2\n",
       "4                       Aladdin(1992)  A2/A2+\n",
       "..                                ...     ...\n",
       "236                     Matilda(2022)      C1\n",
       "237                      Bullet train      B1\n",
       "238            Thor: love and thunder      B2\n",
       "239                         Lightyear      B2\n",
       "240                        The Grinch      B1\n",
       "\n",
       "[239 rows x 2 columns]"
      ]
     },
     "execution_count": 228,
     "metadata": {},
     "output_type": "execute_result"
    }
   ],
   "source": [
    "movie_labels = pd.read_excel(f'{SCORES_PATH}/movies_labels.xlsx', index_col='id')\n",
    "movie_labels.info()\n",
    "movie_labels.columns = ['movie', 'level']\n",
    "print('\\nДубликаты полные', movie_labels.duplicated().sum())\n",
    "print('Дубликаты в названиях фильмов', movie_labels.movie.duplicated().sum())\n",
    "movie_labels = movie_labels.drop_duplicates()\n",
    "movie_labels\n"
   ]
  },
  {
   "cell_type": "code",
   "execution_count": 229,
   "id": "7b0885dd",
   "metadata": {
    "scrolled": false
   },
   "outputs": [
    {
     "data": {
      "text/html": [
       "<style type=\"text/css\">\n",
       "</style>\n",
       "<table id=\"T_897b2\">\n",
       "  <thead>\n",
       "    <tr>\n",
       "      <th class=\"blank level0\" >&nbsp;</th>\n",
       "      <th id=\"T_897b2_level0_col0\" class=\"col_heading level0 col0\" >movie</th>\n",
       "    </tr>\n",
       "    <tr>\n",
       "      <th class=\"index_name level0\" >level</th>\n",
       "      <th class=\"blank col0\" >&nbsp;</th>\n",
       "    </tr>\n",
       "  </thead>\n",
       "  <tbody>\n",
       "    <tr>\n",
       "      <th id=\"T_897b2_level0_row0\" class=\"row_heading level0 row0\" >A2</th>\n",
       "      <td id=\"T_897b2_row0_col0\" class=\"data row0 col0\" >37 фильмов</td>\n",
       "    </tr>\n",
       "    <tr>\n",
       "      <th id=\"T_897b2_level0_row1\" class=\"row_heading level0 row1\" >B1</th>\n",
       "      <td id=\"T_897b2_row1_col0\" class=\"data row1 col0\" >61 фильмов</td>\n",
       "    </tr>\n",
       "    <tr>\n",
       "      <th id=\"T_897b2_level0_row2\" class=\"row_heading level0 row2\" >B2</th>\n",
       "      <td id=\"T_897b2_row2_col0\" class=\"data row2 col0\" >101 фильмов</td>\n",
       "    </tr>\n",
       "    <tr>\n",
       "      <th id=\"T_897b2_level0_row3\" class=\"row_heading level0 row3\" >C1</th>\n",
       "      <td id=\"T_897b2_row3_col0\" class=\"data row3 col0\" >40 фильмов</td>\n",
       "    </tr>\n",
       "  </tbody>\n",
       "</table>\n"
      ],
      "text/plain": [
       "<pandas.io.formats.style.Styler at 0x2ba630520>"
      ]
     },
     "execution_count": 229,
     "metadata": {},
     "output_type": "execute_result"
    }
   ],
   "source": [
    "# correct some mistakes in movies names\n",
    "movie_labels.movie = movie_labels.movie.str.replace('.srt', '', regex=False)\n",
    "movie_labels.loc[movie_labels.movie == 'Up (2009)', 'movie'] = 'Up(2009)'\n",
    "movie_labels.loc[movie_labels.movie == 'The Grinch', 'movie'] = 'The.Grinch'\n",
    "\n",
    "# удалим из level лишние символы, разделители оставим пробел\n",
    "# из мультиуровней выберем наименьший\n",
    "movie_labels.level = movie_labels.level \\\n",
    "                                 .str.replace(',', '', regex=False) \\\n",
    "                                 .str.replace('+', '', regex=False) \\\n",
    "                                 .str.replace('/', ' ', regex=False) \\\n",
    "                                 .str.split().transform(lambda x: min(x))\n",
    "\n",
    "movie_labels.groupby('level').count().style.format({'movie':'{:.0f} фильмов'})"
   ]
  },
  {
   "cell_type": "code",
   "execution_count": 230,
   "id": "919b2f0a",
   "metadata": {
    "scrolled": false
   },
   "outputs": [
    {
     "name": "stdout",
     "output_type": "stream",
     "text": [
      "не найден текст The Secret Life of Pets.en\n",
      "не найден текст Glass Onion\n",
      "не найден текст Matilda(2022)\n",
      "не найден текст Bullet train\n",
      "не найден текст Thor: love and thunder\n",
      "не найден текст Lightyear\n"
     ]
    }
   ],
   "source": [
    "# excel processing\n",
    "for row in movie_labels.itertuples():\n",
    "\n",
    "    n = movies.loc[movies.filename.str.contains(row.movie, regex=False)].shape[0]\n",
    "\n",
    "    if n == 0:\n",
    "        print('не найден текст', row.movie)\n",
    "\n",
    "    elif n == 1:\n",
    "        selected_movie_level = movies.loc[\n",
    "            movies.filename.str.contains(row.movie, regex=False), 'level'].values[0]\n",
    "\n",
    "        if selected_movie_level == 'Subtitles':         # replace Subtitles with excel level\n",
    "             movies.loc[\n",
    "                 movies.filename.str.contains(row.movie, regex=False), 'level'] = row.level\n",
    "\n",
    "        elif selected_movie_level != row.level:          # replace with min current level or excel\n",
    "             movies.loc[\n",
    "                 movies.filename.str.contains(row.movie, regex=False), 'level'\n",
    "             ] = min(selected_movie_level, row.level)\n",
    "\n",
    "    else:\n",
    "        print('не единственный текст', row.movie)\n",
    "            \n",
    "# movies"
   ]
  },
  {
   "cell_type": "code",
   "execution_count": 234,
   "id": "6794a198",
   "metadata": {},
   "outputs": [
    {
     "name": "stdout",
     "output_type": "stream",
     "text": [
      "CPU times: user 6min 37s, sys: 9.04 s, total: 6min 46s\n",
      "Wall time: 6min 46s\n"
     ]
    }
   ],
   "source": [
    "%%time\n",
    "# movies content lemmatization\n",
    "def lemmatize(text, filter = None):\n",
    "    lemmatized = []\n",
    "    doc = nlp(text)\n",
    "    for token in doc:\n",
    "        if not token.is_stop and token.pos_ != filter:\n",
    "            lemmatized.append(token.lemma_)\n",
    "    return ' '.join(lemmatized)\n",
    "\n",
    "movies['lemmas'] = movies.content.apply(lemmatize, filter='PROPN')"
   ]
  },
  {
   "cell_type": "code",
   "execution_count": 240,
   "id": "54be11be",
   "metadata": {},
   "outputs": [
    {
     "name": "stdout",
     "output_type": "stream",
     "text": [
      "['A1', 'A2', 'B1', 'B2', 'C1', 'A1us', 'A2us', 'B1us', 'B2us', 'C1us']\n",
      "['A1', 'A2', 'B1', 'B2', 'C1', 'A1us', 'A2us', 'B1us', 'B2us', 'C1us']\n",
      "['A1', 'A2', 'B1', 'B2', 'C1', 'A1us', 'A2us', 'B1us', 'B2us', 'C1us']\n"
     ]
    },
    {
     "data": {
      "text/html": [
       "<div>\n",
       "<style scoped>\n",
       "    .dataframe tbody tr th:only-of-type {\n",
       "        vertical-align: middle;\n",
       "    }\n",
       "\n",
       "    .dataframe tbody tr th {\n",
       "        vertical-align: top;\n",
       "    }\n",
       "\n",
       "    .dataframe thead th {\n",
       "        text-align: right;\n",
       "    }\n",
       "</style>\n",
       "<table border=\"1\" class=\"dataframe\">\n",
       "  <thead>\n",
       "    <tr style=\"text-align: right;\">\n",
       "      <th></th>\n",
       "      <th>movie</th>\n",
       "      <th>filename</th>\n",
       "      <th>content</th>\n",
       "      <th>level</th>\n",
       "      <th>lemmas</th>\n",
       "    </tr>\n",
       "  </thead>\n",
       "  <tbody>\n",
       "    <tr>\n",
       "      <th>0</th>\n",
       "      <td>NaN</td>\n",
       "      <td>Crown, The S01E01 - Wolferton Splash.en</td>\n",
       "      <td>seeking his british nationalization his royal ...</td>\n",
       "      <td>B2</td>\n",
       "      <td>seek british nationalization royal highness de...</td>\n",
       "    </tr>\n",
       "    <tr>\n",
       "      <th>1</th>\n",
       "      <td>NaN</td>\n",
       "      <td>Suits.Episode 1- Denial</td>\n",
       "      <td>youre the most amazing woman have ever met are...</td>\n",
       "      <td>B2</td>\n",
       "      <td>amazing woman meet think marry yes yes want pe...</td>\n",
       "    </tr>\n",
       "    <tr>\n",
       "      <th>2</th>\n",
       "      <td>NaN</td>\n",
       "      <td>Crazy4TV.com - Suits.S06E06.720p.BluRay.x265.H...</td>\n",
       "      <td>ive been after sutter for three years now this...</td>\n",
       "      <td>B2</td>\n",
       "      <td>ve sutter year guy slippery son bitch wait sec...</td>\n",
       "    </tr>\n",
       "  </tbody>\n",
       "</table>\n",
       "</div>"
      ],
      "text/plain": [
       "   movie                                           filename  \\\n",
       "0    NaN            Crown, The S01E01 - Wolferton Splash.en   \n",
       "1    NaN                            Suits.Episode 1- Denial   \n",
       "2    NaN  Crazy4TV.com - Suits.S06E06.720p.BluRay.x265.H...   \n",
       "\n",
       "                                             content level  \\\n",
       "0  seeking his british nationalization his royal ...    B2   \n",
       "1  youre the most amazing woman have ever met are...    B2   \n",
       "2  ive been after sutter for three years now this...    B2   \n",
       "\n",
       "                                              lemmas  \n",
       "0  seek british nationalization royal highness de...  \n",
       "1  amazing woman meet think marry yes yes want pe...  \n",
       "2  ve sutter year guy slippery son bitch wait sec...  "
      ]
     },
     "execution_count": 240,
     "metadata": {},
     "output_type": "execute_result"
    }
   ],
   "source": [
    "# feature engineering\n",
    "def count_words_by_level(row):\n",
    "\n",
    "    row_lemmas = row.lemmas.split()\n",
    "    \n",
    "    total_score = oxford_words.loc[oxford_words.word.isin(row_lemmas)] \\\n",
    "                              .groupby('level').word.count().to_dict()\n",
    "    \n",
    "    british_score = oxford_words.loc[\n",
    "        (oxford_words.type == 'en') & \\\n",
    "        (oxford_words.word.isin(row_lemmas))\n",
    "    ].groupby('level').word.count().to_dict()\n",
    "\n",
    "    american_score = oxford_words.loc[\n",
    "        (oxford_words.type == 'us') & \\\n",
    "        (oxford_words.word.isin(row_lemmas))\n",
    "    ].groupby('level').word.count().to_dict()\n",
    "    \n",
    "    total_score.update({k+'en':v for k,v in british_score.items()})\n",
    "    total_score.update({k+'us':v for k,v in american_score.items()})\n",
    "    \n",
    "#     row[total_score.keys()] = total_score\n",
    "    print(list(total_score.keys()))\n",
    "    return row\n",
    "\n",
    "# oxford word in movies content\n",
    "# movies = \n",
    "movies.iloc[:3].apply(count_words_by_level, axis=1)"
   ]
  },
  {
   "cell_type": "code",
   "execution_count": 138,
   "id": "b714a27d",
   "metadata": {},
   "outputs": [],
   "source": [
    "# total lemmas count\n",
    "# and unique lemmas count\n",
    "movies['lemmas_count']  = movies.lemmas.transform(lambda x: len(x.split()))\n",
    "movies['lemmas_unique'] = movies.lemmas.transform(lambda x: len(set(x.split())))\n",
    "\n",
    "# ratio oxford words in content\n",
    "for l in ENGLISH_LEVELS:\n",
    "    movies[l+'ratio'] = movies[l]/movies.lemmas_unique"
   ]
  },
  {
   "cell_type": "code",
   "execution_count": 176,
   "id": "355456d0",
   "metadata": {
    "scrolled": true
   },
   "outputs": [],
   "source": [
    "# oxford_words[oxford_words.level=='A1'].word.values"
   ]
  },
  {
   "cell_type": "code",
   "execution_count": 175,
   "id": "09cafe16",
   "metadata": {},
   "outputs": [],
   "source": [
    "# movies.iloc[:3].lemmas.str.split()"
   ]
  },
  {
   "cell_type": "code",
   "execution_count": 184,
   "id": "24b762ab",
   "metadata": {},
   "outputs": [],
   "source": [
    "# def split_lemmas_by_level(row):\n",
    "\n",
    "#     row_lemmas = row.lemmas.split()\n",
    "\n",
    "#     for l in ENGLISH_LEVELS:\n",
    "#         oxford_bag = oxford_words[oxford_words.level==l].word.values\n",
    "#         get_words  = [word for word in row_lemmas if word in oxford_bag]\n",
    "#         row[l+'words'] = ' '.join(get_words)\n",
    "        \n",
    "#     return row\n",
    "\n",
    "# movies = movies.apply(split_lemmas_by_level, axis=1)"
   ]
  },
  {
   "cell_type": "code",
   "execution_count": 185,
   "id": "5c297e46",
   "metadata": {},
   "outputs": [],
   "source": [
    "# data movies to csv\n",
    "movies = movies.fillna(0)\n",
    "\n",
    "movies.to_csv('movies_df.csv', index=False)\n",
    "\n",
    "try:\n",
    "    os.system('say \"data processing completed\"')\n",
    "except:\n",
    "    pass"
   ]
  },
  {
   "cell_type": "markdown",
   "id": "aafb55cf",
   "metadata": {},
   "source": [
    "# MODELS TEST"
   ]
  },
  {
   "cell_type": "code",
   "execution_count": 140,
   "id": "bcf1f55d",
   "metadata": {},
   "outputs": [],
   "source": [
    "movies = pd.read_csv('movies_df.csv')"
   ]
  },
  {
   "cell_type": "code",
   "execution_count": 198,
   "id": "84702de7",
   "metadata": {},
   "outputs": [],
   "source": [
    "text = 'lemmas'\n",
    "# levels_words = [l+'words' for l in ENGLISH_LEVELS]\n",
    "\n",
    "lemmas_num = ['lemmas_count', 'lemmas_unique']\n",
    "\n",
    "levels_ratio = [l+'ratio' for l in ENGLISH_LEVELS]\n",
    "levels_us    = [l+'us' for l in ENGLISH_LEVELS]\n",
    "levels_uk    = [l+'uk' for l in ENGLISH_LEVELS]\n",
    "\n",
    "\n",
    "num_us = lemmas_num + levels_us\n",
    "num_en = lemmas_num + levels_uk\n",
    "\n",
    "target = 'level'\n"
   ]
  },
  {
   "cell_type": "code",
   "execution_count": 202,
   "id": "74532b29",
   "metadata": {},
   "outputs": [],
   "source": [
    "encoder = OrdinalEncoder()\n",
    "\n",
    "X_train, X_test, y_train, y_test = train_test_split(movies, \n",
    "                                                    encoder.fit_transform(movies[[target]]), \n",
    "                                                    stratify=movies[[target]],\n",
    "                                                    random_state=RANDOM_STATE,\n",
    "                                                    test_size=0.3\n",
    "                                                   )\n"
   ]
  },
  {
   "cell_type": "code",
   "execution_count": 220,
   "id": "0ecd2e50",
   "metadata": {},
   "outputs": [],
   "source": [
    "# vectorizer = TfidfVectorizer()\n",
    "vectorizer = CountVectorizer()\n",
    "scaler     = StandardScaler()\n",
    "\n",
    "preprocessor = ColumnTransformer([\n",
    "    ('num', scaler, levels_ratio),\n",
    "    ('main', vectorizer,  text)\n",
    "], remainder='drop')\n"
   ]
  },
  {
   "cell_type": "code",
   "execution_count": 222,
   "id": "9517e5f4",
   "metadata": {
    "scrolled": false
   },
   "outputs": [
    {
     "name": "stdout",
     "output_type": "stream",
     "text": [
      "CPU times: user 11.9 s, sys: 2.39 s, total: 14.3 s\n",
      "Wall time: 1min 8s\n"
     ]
    },
    {
     "data": {
      "text/plain": [
       "0.6836128148884484"
      ]
     },
     "execution_count": 222,
     "metadata": {},
     "output_type": "execute_result"
    }
   ],
   "source": [
    "%%time\n",
    "params = {\n",
    "    'reg__learning_rate': [0.05, 0.1, 0.2],\n",
    "    'reg__n_estimators': [50, 100, 200],\n",
    "    'reg__max_depth': [3, 5, 7],\n",
    "    'reg__min_child_weight': [1, 3, 5],\n",
    "    'reg__gamma': [0, 0.1, 0.5, 1],\n",
    "    'reg__subsample': [0.6, 0.8, 1.0],\n",
    "    'reg__colsample_bytree': [0.6, 0.8, 1.0],\n",
    "    'reg__reg_alpha': [0, 0.1, 1],\n",
    "    'reg__reg_lambda': [0, 0.1, 1],\n",
    "    'reg__gamma': [0, 1, 5]\n",
    "}\n",
    "\n",
    "regressor = xgboost.XGBRegressor(random_state=RANDOM_STATE)\n",
    "\n",
    "pipeline = Pipeline(steps=[\n",
    "    ('pre', preprocessor),\n",
    "    ('reg', regressor)\n",
    "])\n",
    "\n",
    "rc = RandomizedSearchCV(pipeline,\n",
    "                        param_distributions=params,\n",
    "                        scoring='neg_mean_squared_error',\n",
    "                        error_score='raise',\n",
    "                        random_state=RANDOM_STATE,\n",
    "                        n_jobs=-1\n",
    "                       )\n",
    "\n",
    "rc.fit(X_train,y_train)\n",
    "\n",
    "try:\n",
    "    os.system('say \"Model training completed\"')\n",
    "except:\n",
    "    pass\n",
    "\n",
    "-rc.best_score_"
   ]
  },
  {
   "cell_type": "code",
   "execution_count": 223,
   "id": "931194de",
   "metadata": {
    "scrolled": true
   },
   "outputs": [
    {
     "data": {
      "text/html": [
       "<div>\n",
       "<style scoped>\n",
       "    .dataframe tbody tr th:only-of-type {\n",
       "        vertical-align: middle;\n",
       "    }\n",
       "\n",
       "    .dataframe tbody tr th {\n",
       "        vertical-align: top;\n",
       "    }\n",
       "\n",
       "    .dataframe thead th {\n",
       "        text-align: right;\n",
       "    }\n",
       "</style>\n",
       "<table border=\"1\" class=\"dataframe\">\n",
       "  <thead>\n",
       "    <tr style=\"text-align: right;\">\n",
       "      <th></th>\n",
       "      <th>feature</th>\n",
       "      <th>weight</th>\n",
       "    </tr>\n",
       "  </thead>\n",
       "  <tbody>\n",
       "    <tr>\n",
       "      <th>6727</th>\n",
       "      <td>_firm</td>\n",
       "      <td>0.025911</td>\n",
       "    </tr>\n",
       "    <tr>\n",
       "      <th>6937</th>\n",
       "      <td>_food</td>\n",
       "      <td>0.019733</td>\n",
       "    </tr>\n",
       "    <tr>\n",
       "      <th>16725</th>\n",
       "      <td>_song</td>\n",
       "      <td>0.018172</td>\n",
       "    </tr>\n",
       "    <tr>\n",
       "      <th>17931</th>\n",
       "      <td>_tell</td>\n",
       "      <td>0.017506</td>\n",
       "    </tr>\n",
       "    <tr>\n",
       "      <th>2</th>\n",
       "      <td>B1ratio</td>\n",
       "      <td>0.013997</td>\n",
       "    </tr>\n",
       "    <tr>\n",
       "      <th>12304</th>\n",
       "      <td>_not</td>\n",
       "      <td>0.013286</td>\n",
       "    </tr>\n",
       "    <tr>\n",
       "      <th>966</th>\n",
       "      <td>_assistance</td>\n",
       "      <td>0.013001</td>\n",
       "    </tr>\n",
       "    <tr>\n",
       "      <th>17217</th>\n",
       "      <td>_stop</td>\n",
       "      <td>0.012829</td>\n",
       "    </tr>\n",
       "    <tr>\n",
       "      <th>8882</th>\n",
       "      <td>_idea</td>\n",
       "      <td>0.011792</td>\n",
       "    </tr>\n",
       "    <tr>\n",
       "      <th>3438</th>\n",
       "      <td>_come</td>\n",
       "      <td>0.011688</td>\n",
       "    </tr>\n",
       "  </tbody>\n",
       "</table>\n",
       "</div>"
      ],
      "text/plain": [
       "           feature    weight\n",
       "6727         _firm  0.025911\n",
       "6937         _food  0.019733\n",
       "16725        _song  0.018172\n",
       "17931        _tell  0.017506\n",
       "2          B1ratio  0.013997\n",
       "12304         _not  0.013286\n",
       "966    _assistance  0.013001\n",
       "17217        _stop  0.012829\n",
       "8882         _idea  0.011792\n",
       "3438         _come  0.011688"
      ]
     },
     "execution_count": 223,
     "metadata": {},
     "output_type": "execute_result"
    }
   ],
   "source": [
    "feature_names = rc.best_estimator_[0].get_feature_names_out()\n",
    "feature_importances = rc.best_estimator_[-1].feature_importances_\n",
    "fi = pd.DataFrame({'feature':feature_names, 'weight': feature_importances})\n",
    "fi.feature = fi.feature.str[5:]\n",
    "# fi['type'] = fi.feature.str[:3]\n",
    "\n",
    "fi.sort_values(by='weight', ascending=False).head(10)"
   ]
  },
  {
   "cell_type": "code",
   "execution_count": 161,
   "id": "ccd673e7",
   "metadata": {},
   "outputs": [],
   "source": [
    "# fi[fi.feature.str.contains(r'[A-C][1-2]|lemmas_', regex=True)]"
   ]
  },
  {
   "cell_type": "code",
   "execution_count": 152,
   "id": "a323802f",
   "metadata": {},
   "outputs": [],
   "source": [
    "# fi[fi.feature.str.startswith(tuple(ENGLISH_LEVELS))]"
   ]
  },
  {
   "cell_type": "code",
   "execution_count": 153,
   "id": "da1733f0",
   "metadata": {},
   "outputs": [],
   "source": [
    "voc = {key:'' for key in ENGLISH_LEVELS}\n",
    "for l in ENGLISH_LEVELS:\n",
    "    voc[l] = ' '.join(oxford_words[oxford_words.level<=l].word.drop_duplicates())"
   ]
  },
  {
   "cell_type": "code",
   "execution_count": 154,
   "id": "12bf9e69",
   "metadata": {
    "scrolled": true
   },
   "outputs": [
    {
     "name": "stdout",
     "output_type": "stream",
     "text": [
      "A1: 4753\n",
      "A2: 10203\n",
      "B1: 16073\n",
      "B2: 27899\n",
      "C1: 38346\n"
     ]
    },
    {
     "data": {
      "text/plain": [
       "[None, None, None, None, None]"
      ]
     },
     "execution_count": 154,
     "metadata": {},
     "output_type": "execute_result"
    }
   ],
   "source": [
    "[print(f'{k}: {len(voc[k])}') for k in voc]"
   ]
  },
  {
   "cell_type": "code",
   "execution_count": 155,
   "id": "f82fba76",
   "metadata": {},
   "outputs": [],
   "source": [
    "# ' '.join(oxford_words[oxford_words.level=='A1'].word.drop_duplicates())"
   ]
  },
  {
   "cell_type": "markdown",
   "id": "ea125e42",
   "metadata": {},
   "source": [
    "1. векторизация и линейная регрессия\n",
    "2. доля слов из своего уровня\n",
    "3. доля слов из более высоких уровней"
   ]
  },
  {
   "cell_type": "code",
   "execution_count": 156,
   "id": "78e862aa",
   "metadata": {},
   "outputs": [
    {
     "data": {
      "image/png": "[encoded data removed]",
      "text/plain": [
       "<Figure size 640x480 with 1 Axes>"
      ]
     },
     "metadata": {},
     "output_type": "display_data"
    }
   ],
   "source": [
    "movies.groupby('level')[['A1ratio','A2ratio','B1ratio','B2ratio','C1ratio']].median().plot()\n",
    "plt.show()\n"
   ]
  },
  {
   "cell_type": "code",
   "execution_count": null,
   "id": "04e6d996",
   "metadata": {},
   "outputs": [],
   "source": [
    "movies[movies.level=='Subtitles']"
   ]
  },
  {
   "cell_type": "code",
   "execution_count": null,
   "id": "1de88544",
   "metadata": {},
   "outputs": [],
   "source": []
  }
 ],
 "metadata": {
  "kernelspec": {
   "display_name": "Python 3 (ipykernel)",
   "language": "python",
   "name": "python3"
  },
  "language_info": {
   "codemirror_mode": {
    "name": "ipython",
    "version": 3
   },
   "file_extension": ".py",
   "mimetype": "text/x-python",
   "name": "python",
   "nbconvert_exporter": "python",
   "pygments_lexer": "ipython3",
   "version": "3.9.13"
  }
 },
 "nbformat": 4,
 "nbformat_minor": 5
}
